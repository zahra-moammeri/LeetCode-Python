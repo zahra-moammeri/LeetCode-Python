{
 "cells": [
  {
   "cell_type": "markdown",
   "id": "ec80a0ab",
   "metadata": {},
   "source": [
    "For two strings s and t, we say \"t divides s\" if and only if s = t + ... + t (i.e., t is concatenated with itself one or more times).\n",
    "\n",
    "Given two strings str1 and str2, return the largest string x such that x divides both str1 and str2."
   ]
  },
  {
   "cell_type": "code",
   "execution_count": 2,
   "id": "45e83ceb",
   "metadata": {},
   "outputs": [],
   "source": [
    "class Solution1:\n",
    "    def gcdOfStrings(self, str1: str, str2: str) -> str:\n",
    "        self.string1 = str1\n",
    "        self.string2 = str2\n",
    "        temp = \"\"\n",
    "        result = \"\"\n",
    "        for i in range(len(self.string1)):\n",
    "            temp += self.string1[i]\n",
    "            if len(self.string1) % (i + 1) == 0 and len(self.string2) % (i + 1) == 0:\n",
    "                if (\n",
    "                    temp * (len(self.string1) // (i + 1)) == self.string1\n",
    "                    and temp * (len(self.string2) // (i + 1)) == self.string2\n",
    "                ):\n",
    "                    result = temp\n",
    "        print(result)\n"
   ]
  },
  {
   "cell_type": "code",
   "execution_count": 3,
   "id": "0d937bb9",
   "metadata": {},
   "outputs": [],
   "source": [
    "string1 = \"ABCABC\"\n",
    "string2 = \"ABC\""
   ]
  },
  {
   "cell_type": "code",
   "execution_count": 4,
   "id": "bab2efae",
   "metadata": {},
   "outputs": [
    {
     "name": "stdout",
     "output_type": "stream",
     "text": [
      "ABC\n"
     ]
    }
   ],
   "source": [
    "s1 = Solution1()\n",
    "s1.gcdOfStrings(string1, string2)"
   ]
  },
  {
   "cell_type": "code",
   "execution_count": 8,
   "id": "7ef5401c",
   "metadata": {},
   "outputs": [],
   "source": [
    "string1 = \"ABCDEF\"\n",
    "string2 = \"ABC\""
   ]
  },
  {
   "cell_type": "code",
   "execution_count": 9,
   "id": "ea642587",
   "metadata": {},
   "outputs": [
    {
     "name": "stdout",
     "output_type": "stream",
     "text": [
      "\n"
     ]
    }
   ],
   "source": [
    "s1 = Solution1()\n",
    "s1.gcdOfStrings(string1, string2)"
   ]
  },
  {
   "cell_type": "code",
   "execution_count": 6,
   "id": "760ba27c",
   "metadata": {},
   "outputs": [],
   "source": [
    "string1 = \"ABABAB\"\n",
    "string2 = \"ABAB\""
   ]
  },
  {
   "cell_type": "code",
   "execution_count": 7,
   "id": "da735b68",
   "metadata": {},
   "outputs": [
    {
     "name": "stdout",
     "output_type": "stream",
     "text": [
      "AB\n"
     ]
    }
   ],
   "source": [
    "s1 = Solution1()\n",
    "s1.gcdOfStrings(string1, string2)"
   ]
  },
  {
   "cell_type": "markdown",
   "id": "baeed727",
   "metadata": {},
   "source": [
    "# with gcd function"
   ]
  },
  {
   "cell_type": "code",
   "execution_count": 17,
   "id": "56a1a9bd",
   "metadata": {},
   "outputs": [],
   "source": [
    "import math\n",
    "\n",
    "\n",
    "class Solution2:\n",
    "    def gcdOfStrings(self, str1: str, str2: str) -> str:\n",
    "        self.string1 = str1\n",
    "        self.string2 = str2\n",
    "        res = (\n",
    "            self.string1[: math.gcd(len(self.string1), len(self.string2))]\n",
    "            if self.string1 + self.string2 == self.string2 + self.string1\n",
    "            else \"\"\n",
    "        )\n",
    "        print(res)"
   ]
  },
  {
   "cell_type": "code",
   "execution_count": 18,
   "id": "d64273da",
   "metadata": {},
   "outputs": [],
   "source": [
    "string1 = \"ABCABC\"\n",
    "string2 = \"ABC\""
   ]
  },
  {
   "cell_type": "code",
   "execution_count": 19,
   "id": "1131533d",
   "metadata": {},
   "outputs": [
    {
     "name": "stdout",
     "output_type": "stream",
     "text": [
      "ABC\n"
     ]
    }
   ],
   "source": [
    "s2 = Solution2()\n",
    "s2.gcdOfStrings(string1, string2)"
   ]
  },
  {
   "cell_type": "code",
   "execution_count": 22,
   "id": "90c2932e",
   "metadata": {},
   "outputs": [],
   "source": [
    "string1 = \"ABCDEF\"\n",
    "string2 = \"ABC\""
   ]
  },
  {
   "cell_type": "code",
   "execution_count": 23,
   "id": "c8b707ab",
   "metadata": {},
   "outputs": [
    {
     "name": "stdout",
     "output_type": "stream",
     "text": [
      "\n"
     ]
    }
   ],
   "source": [
    "s2 = Solution2()\n",
    "s2.gcdOfStrings(string1, string2)"
   ]
  },
  {
   "cell_type": "code",
   "execution_count": 20,
   "id": "a25ccdcf",
   "metadata": {},
   "outputs": [],
   "source": [
    "string1 = \"ABABAB\"\n",
    "string2 = \"ABAB\""
   ]
  },
  {
   "cell_type": "code",
   "execution_count": 21,
   "id": "d4cac661",
   "metadata": {},
   "outputs": [
    {
     "name": "stdout",
     "output_type": "stream",
     "text": [
      "AB\n"
     ]
    }
   ],
   "source": [
    "s2 = Solution2()\n",
    "s2.gcdOfStrings(string1, string2)"
   ]
  }
 ],
 "metadata": {
  "kernelspec": {
   "display_name": "Python 3 (ipykernel)",
   "language": "python",
   "name": "python3"
  },
  "language_info": {
   "codemirror_mode": {
    "name": "ipython",
    "version": 3
   },
   "file_extension": ".py",
   "mimetype": "text/x-python",
   "name": "python",
   "nbconvert_exporter": "python",
   "pygments_lexer": "ipython3",
   "version": "3.9.12"
  }
 },
 "nbformat": 4,
 "nbformat_minor": 5
}
