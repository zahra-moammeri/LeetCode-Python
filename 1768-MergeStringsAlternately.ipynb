{
 "cells": [
  {
   "cell_type": "markdown",
   "id": "09797775",
   "metadata": {},
   "source": [
    "You are given two strings word1 and word2. Merge the strings by adding letters in alternating order, starting with word1. If a string is longer than the other, append the additional letters onto the end of the merged string."
   ]
  },
  {
   "cell_type": "code",
   "execution_count": 1,
   "id": "7cd92262",
   "metadata": {},
   "outputs": [],
   "source": [
    "class Solution:\n",
    "    def __init__(self, word_1, word_2):\n",
    "        self.w1 = word_1\n",
    "        self.w2 = word_2\n",
    "\n",
    "    def mergeAlternately(self):\n",
    "        i = 0\n",
    "        j = 0\n",
    "        merged = []\n",
    "        while len(self.w1) > i or len(self.w2) > j:\n",
    "            if len(self.w1) > i:\n",
    "                merged.append(self.w1[i])\n",
    "                i += 1\n",
    "            if len(self.w2) > j:\n",
    "                merged.append(self.w2[j])\n",
    "                j += 1\n",
    "        result = \"\".join(merged)\n",
    "        print(result)\n"
   ]
  },
  {
   "cell_type": "code",
   "execution_count": 5,
   "id": "0238d386",
   "metadata": {},
   "outputs": [
    {
     "name": "stdout",
     "output_type": "stream",
     "text": [
      "Please write a word: abc\n",
      "Please write second word: pqr\n"
     ]
    }
   ],
   "source": [
    "word_1 = input(\"Please write a word: \")\n",
    "word_2 = input(\"Please write second word: \")"
   ]
  },
  {
   "cell_type": "code",
   "execution_count": 6,
   "id": "80d20cc2",
   "metadata": {},
   "outputs": [
    {
     "name": "stdout",
     "output_type": "stream",
     "text": [
      "apbqcr\n"
     ]
    }
   ],
   "source": [
    "s = Solution(word_1, word_2)\n",
    "s.mergeAlternately()\n"
   ]
  }
 ],
 "metadata": {
  "kernelspec": {
   "display_name": "Python 3 (ipykernel)",
   "language": "python",
   "name": "python3"
  },
  "language_info": {
   "codemirror_mode": {
    "name": "ipython",
    "version": 3
   },
   "file_extension": ".py",
   "mimetype": "text/x-python",
   "name": "python",
   "nbconvert_exporter": "python",
   "pygments_lexer": "ipython3",
   "version": "3.9.12"
  }
 },
 "nbformat": 4,
 "nbformat_minor": 5
}
